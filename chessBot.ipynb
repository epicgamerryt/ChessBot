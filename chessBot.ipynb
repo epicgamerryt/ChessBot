{
  "nbformat": 4,
  "nbformat_minor": 0,
  "metadata": {
    "colab": {
      "provenance": []
    },
    "kernelspec": {
      "name": "python3",
      "display_name": "Python 3"
    },
    "language_info": {
      "name": "python"
    }
  },
  "cells": [
    {
      "cell_type": "code",
      "source": [
        "!gdown https://drive.google.com/uc?id=1WsLkQKdcj2yZblcLbo9o5zVWMkq7G8A8"
      ],
      "metadata": {
        "colab": {
          "base_uri": "https://localhost:8080/"
        },
        "id": "Aea7iF6dK7AJ",
        "outputId": "f37a9e7a-6082-4b91-9b53-74e0b30d23fa"
      },
      "execution_count": null,
      "outputs": [
        {
          "output_type": "stream",
          "name": "stdout",
          "text": [
            "Downloading...\n",
            "From (original): https://drive.google.com/uc?id=1WsLkQKdcj2yZblcLbo9o5zVWMkq7G8A8\n",
            "From (redirected): https://drive.google.com/uc?id=1WsLkQKdcj2yZblcLbo9o5zVWMkq7G8A8&confirm=t&uuid=8374980f-53de-4f36-806c-36743c1c4390\n",
            "To: /content/chessData.csv.zip\n",
            "100% 151M/151M [00:00<00:00, 155MB/s]\n"
          ]
        }
      ]
    },
    {
      "cell_type": "code",
      "source": [
        "!unzip -q chessData.csv.zip"
      ],
      "metadata": {
        "id": "KWfAmw4QLw5d"
      },
      "execution_count": null,
      "outputs": []
    },
    {
      "cell_type": "code",
      "source": [
        "import numpy as np\n",
        "import pandas as pd\n",
        "import tensorflow as tf\n",
        "import matplotlib.pyplot as plt"
      ],
      "metadata": {
        "id": "CM6kd7XVmXSm"
      },
      "execution_count": null,
      "outputs": []
    },
    {
      "cell_type": "code",
      "source": [
        "my_data_df = pd.read_csv('chessData.csv')"
      ],
      "metadata": {
        "id": "wRhq1_PqN6ir"
      },
      "execution_count": null,
      "outputs": []
    },
    {
      "cell_type": "code",
      "source": [
        "def fen_to_one_hot(fen_string):\n",
        "    piece_to_index = {'P': 0, 'N': 1, 'B': 2, 'R': 3, 'Q': 4, 'K': 5,\n",
        "                      'p': 6, 'n': 7, 'b': 8, 'r': 9, 'q': 10, 'k': 11}\n",
        "\n",
        "    # Create an empty numpy array with shape (8, 8, 12)\n",
        "    chessboard = np.zeros((8, 8, 12), dtype=int)\n",
        "\n",
        "    # Split the FEN string into its components\n",
        "    fen_parts = fen_string.split(' ')\n",
        "    board_part = fen_parts[0]\n",
        "\n",
        "    # Convert the FEN board string to a numpy array\n",
        "    row = 0\n",
        "    col = 0\n",
        "    for char in board_part:\n",
        "        if char == '/':\n",
        "            row += 1\n",
        "            col = 0\n",
        "        elif char.isdigit():\n",
        "            col += int(char)\n",
        "        else:\n",
        "            piece_index = piece_to_index[char]\n",
        "            chessboard[row, col, piece_index] = 1\n",
        "            col += 1\n",
        "\n",
        "    return chessboard\n",
        "\n",
        "def parse_advantage(advantage_str):\n",
        "    if advantage_str.startswith('#+'):\n",
        "        return 99999\n",
        "    elif advantage_str.startswith('#-'):\n",
        "        return -99999\n",
        "    else:\n",
        "        # Parse numeric advantage\n",
        "        return int(advantage_str.lstrip('\\ufeff'))\n",
        "\n",
        "def parse_turn(player_turn_string):\n",
        "    return np.array([1, 0]) if player_turn_string == \"w\" else np.array([0, 1])\n",
        "\n",
        "def parse_castle(castle_string):\n",
        "    piece_to_index = {'K': 0, 'Q': 1, 'k': 2, 'q': 3}\n",
        "    castle_array = np.zeros(4, dtype=int)\n",
        "    for c in castle_string:\n",
        "        try:\n",
        "            castle_array[piece_to_index[c]] = 1\n",
        "        except KeyError:\n",
        "            pass\n",
        "    return castle_array\n",
        "\n",
        "def parse_en_passant(en_passant_string):\n",
        "    en_passent_array = np.zeros((8, 8), dtype=int)\n",
        "    if en_passant_string != \"-\":\n",
        "        row = int(en_passant_string[1]) - 1\n",
        "        col = ord(en_passant_string[0]) - ord('a')\n",
        "        en_passent_array[row, col] = 1\n",
        "    return en_passent_array\n",
        "\n",
        "# print(fen_to_one_hot('rnbqkbnr/pppppppp/8/8/8/8/PPPPPPPP/RNBQKBNR w KQkq - 0 1'))\n",
        "# print(parse_advantage('#+1'))\n",
        "# print(parse_advantage('#-1'))\n",
        "# print(parse_advantage('+1'))\n",
        "# print(parse_advantage('-1'))\n",
        "# print(parse_turn('w'))\n",
        "# print(parse_turn('b'))\n",
        "# print(parse_castle('KQkq'))\n",
        "# print(parse_castle('-'))\n",
        "# print(parse_en_passant('e4'))\n",
        "# print(parse_en_passant('-'))"
      ],
      "metadata": {
        "colab": {
          "base_uri": "https://localhost:8080/"
        },
        "collapsed": true,
        "id": "HmFJiVK2m3Yy",
        "outputId": "7b37569e-a655-43f6-8c5d-75036535658e"
      },
      "execution_count": null,
      "outputs": [
        {
          "output_type": "stream",
          "name": "stdout",
          "text": [
            "[[[0 0 0 0 0 0 0 0 0 1 0 0]\n",
            "  [0 0 0 0 0 0 0 1 0 0 0 0]\n",
            "  [0 0 0 0 0 0 0 0 1 0 0 0]\n",
            "  [0 0 0 0 0 0 0 0 0 0 1 0]\n",
            "  [0 0 0 0 0 0 0 0 0 0 0 1]\n",
            "  [0 0 0 0 0 0 0 0 1 0 0 0]\n",
            "  [0 0 0 0 0 0 0 1 0 0 0 0]\n",
            "  [0 0 0 0 0 0 0 0 0 1 0 0]]\n",
            "\n",
            " [[0 0 0 0 0 0 1 0 0 0 0 0]\n",
            "  [0 0 0 0 0 0 1 0 0 0 0 0]\n",
            "  [0 0 0 0 0 0 1 0 0 0 0 0]\n",
            "  [0 0 0 0 0 0 1 0 0 0 0 0]\n",
            "  [0 0 0 0 0 0 1 0 0 0 0 0]\n",
            "  [0 0 0 0 0 0 1 0 0 0 0 0]\n",
            "  [0 0 0 0 0 0 1 0 0 0 0 0]\n",
            "  [0 0 0 0 0 0 1 0 0 0 0 0]]\n",
            "\n",
            " [[0 0 0 0 0 0 0 0 0 0 0 0]\n",
            "  [0 0 0 0 0 0 0 0 0 0 0 0]\n",
            "  [0 0 0 0 0 0 0 0 0 0 0 0]\n",
            "  [0 0 0 0 0 0 0 0 0 0 0 0]\n",
            "  [0 0 0 0 0 0 0 0 0 0 0 0]\n",
            "  [0 0 0 0 0 0 0 0 0 0 0 0]\n",
            "  [0 0 0 0 0 0 0 0 0 0 0 0]\n",
            "  [0 0 0 0 0 0 0 0 0 0 0 0]]\n",
            "\n",
            " [[0 0 0 0 0 0 0 0 0 0 0 0]\n",
            "  [0 0 0 0 0 0 0 0 0 0 0 0]\n",
            "  [0 0 0 0 0 0 0 0 0 0 0 0]\n",
            "  [0 0 0 0 0 0 0 0 0 0 0 0]\n",
            "  [0 0 0 0 0 0 0 0 0 0 0 0]\n",
            "  [0 0 0 0 0 0 0 0 0 0 0 0]\n",
            "  [0 0 0 0 0 0 0 0 0 0 0 0]\n",
            "  [0 0 0 0 0 0 0 0 0 0 0 0]]\n",
            "\n",
            " [[0 0 0 0 0 0 0 0 0 0 0 0]\n",
            "  [0 0 0 0 0 0 0 0 0 0 0 0]\n",
            "  [0 0 0 0 0 0 0 0 0 0 0 0]\n",
            "  [0 0 0 0 0 0 0 0 0 0 0 0]\n",
            "  [0 0 0 0 0 0 0 0 0 0 0 0]\n",
            "  [0 0 0 0 0 0 0 0 0 0 0 0]\n",
            "  [0 0 0 0 0 0 0 0 0 0 0 0]\n",
            "  [0 0 0 0 0 0 0 0 0 0 0 0]]\n",
            "\n",
            " [[0 0 0 0 0 0 0 0 0 0 0 0]\n",
            "  [0 0 0 0 0 0 0 0 0 0 0 0]\n",
            "  [0 0 0 0 0 0 0 0 0 0 0 0]\n",
            "  [0 0 0 0 0 0 0 0 0 0 0 0]\n",
            "  [0 0 0 0 0 0 0 0 0 0 0 0]\n",
            "  [0 0 0 0 0 0 0 0 0 0 0 0]\n",
            "  [0 0 0 0 0 0 0 0 0 0 0 0]\n",
            "  [0 0 0 0 0 0 0 0 0 0 0 0]]\n",
            "\n",
            " [[1 0 0 0 0 0 0 0 0 0 0 0]\n",
            "  [1 0 0 0 0 0 0 0 0 0 0 0]\n",
            "  [1 0 0 0 0 0 0 0 0 0 0 0]\n",
            "  [1 0 0 0 0 0 0 0 0 0 0 0]\n",
            "  [1 0 0 0 0 0 0 0 0 0 0 0]\n",
            "  [1 0 0 0 0 0 0 0 0 0 0 0]\n",
            "  [1 0 0 0 0 0 0 0 0 0 0 0]\n",
            "  [1 0 0 0 0 0 0 0 0 0 0 0]]\n",
            "\n",
            " [[0 0 0 1 0 0 0 0 0 0 0 0]\n",
            "  [0 1 0 0 0 0 0 0 0 0 0 0]\n",
            "  [0 0 1 0 0 0 0 0 0 0 0 0]\n",
            "  [0 0 0 0 1 0 0 0 0 0 0 0]\n",
            "  [0 0 0 0 0 1 0 0 0 0 0 0]\n",
            "  [0 0 1 0 0 0 0 0 0 0 0 0]\n",
            "  [0 1 0 0 0 0 0 0 0 0 0 0]\n",
            "  [0 0 0 1 0 0 0 0 0 0 0 0]]]\n",
            "99999\n",
            "-99999\n",
            "1\n",
            "-1\n",
            "[1 0]\n",
            "[0 1]\n",
            "[1 1 1 1]\n",
            "[0 0 0 0]\n",
            "[[0 0 0 0 0 0 0 0]\n",
            " [0 0 0 0 0 0 0 0]\n",
            " [0 0 0 0 0 0 0 0]\n",
            " [0 0 0 0 1 0 0 0]\n",
            " [0 0 0 0 0 0 0 0]\n",
            " [0 0 0 0 0 0 0 0]\n",
            " [0 0 0 0 0 0 0 0]\n",
            " [0 0 0 0 0 0 0 0]]\n",
            "[[0 0 0 0 0 0 0 0]\n",
            " [0 0 0 0 0 0 0 0]\n",
            " [0 0 0 0 0 0 0 0]\n",
            " [0 0 0 0 0 0 0 0]\n",
            " [0 0 0 0 0 0 0 0]\n",
            " [0 0 0 0 0 0 0 0]\n",
            " [0 0 0 0 0 0 0 0]\n",
            " [0 0 0 0 0 0 0 0]]\n"
          ]
        }
      ]
    },
    {
      "cell_type": "code",
      "source": [
        "train_positions = 100000\n",
        "test_positions = 100\n",
        "\n",
        "X_board = []\n",
        "X_active_color = []\n",
        "X_castling_rights = []\n",
        "X_en_passant = []\n",
        "X_half_turn = []\n",
        "y = []\n",
        "\n",
        "X_board_test = []\n",
        "X_active_color_test = []\n",
        "X_castling_rights_test = []\n",
        "X_en_passant_test = []\n",
        "X_half_turn_test = []\n",
        "y_test = []\n",
        "\n",
        "rows_evaluated = 0\n",
        "\n",
        "my_data_df = my_data_df.sample(frac=1)\n",
        "\n",
        "for _, row in my_data_df.iterrows():\n",
        "    fen, eval = row['FEN'], row['Evaluation']\n",
        "    if eval[0] == '#':\n",
        "        continue\n",
        "    board, active_color, castling, en_passant, halfmove, fullmove = fen.split(' ')\n",
        "    if rows_evaluated < train_positions:\n",
        "        X_board.append(fen_to_one_hot(board).flatten())\n",
        "        X_active_color.append(parse_turn(active_color))\n",
        "        X_castling_rights.append(parse_castle(castling))\n",
        "        X_en_passant.append(parse_en_passant(en_passant).flatten())\n",
        "        X_half_turn.append(np.array([int(halfmove)]))\n",
        "        y.append(parse_advantage(eval))\n",
        "    elif rows_evaluated < train_positions + test_positions:\n",
        "        X_board_test.append(fen_to_one_hot(board).flatten())\n",
        "        X_active_color_test.append(parse_turn(active_color))\n",
        "        X_castling_rights_test.append(parse_castle(castling))\n",
        "        X_en_passant_test.append(parse_en_passant(en_passant).flatten())\n",
        "        X_half_turn_test.append(np.array([max(0, min(1, int(halfmove) / 50))]))\n",
        "        y_test.append(parse_advantage(eval))\n",
        "    else:\n",
        "        break\n",
        "    rows_evaluated += 1;"
      ],
      "metadata": {
        "id": "z61-McT4QTA_"
      },
      "execution_count": null,
      "outputs": []
    },
    {
      "cell_type": "code",
      "source": [
        "X_board = np.array(X_board)\n",
        "X_active_color = np.array(X_active_color)\n",
        "X_castling_rights = np.array(X_castling_rights)\n",
        "X_en_passant = np.array(X_en_passant)\n",
        "X_half_turn = np.array(X_half_turn)\n",
        "y = np.array(y)\n",
        "X_board_test = np.array(X_board_test)\n",
        "X_active_color_test = np.array(X_active_color_test)\n",
        "X_castling_rights_test = np.array(X_castling_rights_test)\n",
        "X_en_passant_test = np.array(X_en_passant_test)\n",
        "X_half_turn_test = np.array(X_half_turn_test)\n",
        "y_test = np.array(y_test)"
      ],
      "metadata": {
        "id": "Md11QFBCvDAM"
      },
      "execution_count": null,
      "outputs": []
    },
    {
      "cell_type": "code",
      "source": [
        "board_input = tf.keras.layers.Input(shape=(8, 8, 12), name='board_input')\n",
        "board_input = tf.keras.layers.Reshape((768,))(board_input)\n",
        "active_color_input = tf.keras.layers.Input(shape=(2,), name='active_color_input')\n",
        "castling_rights_input = tf.keras.layers.Input(shape=(4,), name='castling_rights_input')\n",
        "en_passant_input = tf.keras.layers.Input(shape=(8, 8), name='en_passant_input')\n",
        "en_passant_input = tf.keras.layers.Reshape((64,))(en_passant_input)\n",
        "half_turn_input = tf.keras.layers.Input(shape=(1,), name='half_turn_input')\n",
        "\n",
        "board_input = tf.keras.layers.Flatten()(board_input)\n",
        "active_color_input = tf.keras.layers.Flatten()(active_color_input)\n",
        "castling_rights_input = tf.keras.layers.Flatten()(castling_rights_input)\n",
        "en_passant_input = tf.keras.layers.Flatten()(en_passant_input)\n",
        "half_turn_input = tf.keras.layers.Flatten()(half_turn_input)\n",
        "\n",
        "concatenated_inputs = tf.keras.layers.Concatenate()([board_input, active_color_input, castling_rights_input, en_passant_input, half_turn_input])\n",
        "\n",
        "hidden_layer1 = tf.keras.layers.Dense(64, activation='relu')(concatenated_inputs)\n",
        "hidden_layer2 = tf.keras.layers.Dense(32, activation='relu')(hidden_layer1)\n",
        "hidden_layer3 = tf.keras.layers.Dense(16, activation='relu')(hidden_layer2)\n",
        "hidden_layer4 = tf.keras.layers.Dense(8, activation='relu')(hidden_layer3)\n",
        "hidden_layer5 = tf.keras.layers.Dense(4, activation='relu')(hidden_layer4)\n",
        "hidden_layer6 = tf.keras.layers.Dense(2, activation='relu')(hidden_layer5)\n",
        "\n",
        "output_layer = tf.keras.layers.Dense(1, activation='linear')(hidden_layer6)\n",
        "\n",
        "model = tf.keras.Model(inputs=[board_input, active_color_input, castling_rights_input, en_passant_input, half_turn_input], outputs=output_layer)\n",
        "\n",
        "model.compile(optimizer='adam', loss='mse', metrics=['mae'])\n",
        "\n",
        "model.summary()"
      ],
      "metadata": {
        "colab": {
          "base_uri": "https://localhost:8080/"
        },
        "id": "-ZcuekDAJMDX",
        "outputId": "cc759ba9-8726-436b-bff9-a441aad2b330"
      },
      "execution_count": null,
      "outputs": [
        {
          "output_type": "stream",
          "name": "stdout",
          "text": [
            "Model: \"model_1\"\n",
            "__________________________________________________________________________________________________\n",
            " Layer (type)                Output Shape                 Param #   Connected to                  \n",
            "==================================================================================================\n",
            " input_6 (InputLayer)        [(None, 768)]                0         []                            \n",
            "                                                                                                  \n",
            " input_7 (InputLayer)        [(None, 2)]                  0         []                            \n",
            "                                                                                                  \n",
            " input_8 (InputLayer)        [(None, 4)]                  0         []                            \n",
            "                                                                                                  \n",
            " input_9 (InputLayer)        [(None, 64)]                 0         []                            \n",
            "                                                                                                  \n",
            " input_10 (InputLayer)       [(None, 1)]                  0         []                            \n",
            "                                                                                                  \n",
            " concatenate_1 (Concatenate  (None, 839)                  0         ['input_6[0][0]',             \n",
            " )                                                                   'input_7[0][0]',             \n",
            "                                                                     'input_8[0][0]',             \n",
            "                                                                     'input_9[0][0]',             \n",
            "                                                                     'input_10[0][0]']            \n",
            "                                                                                                  \n",
            " dense_9 (Dense)             (None, 64)                   53760     ['concatenate_1[1][0]']       \n",
            "                                                                                                  \n",
            " dense_10 (Dense)            (None, 32)                   2080      ['dense_9[1][0]']             \n",
            "                                                                                                  \n",
            " dense_11 (Dense)            (None, 16)                   528       ['dense_10[1][0]']            \n",
            "                                                                                                  \n",
            " dense_12 (Dense)            (None, 8)                    136       ['dense_11[1][0]']            \n",
            "                                                                                                  \n",
            " dense_13 (Dense)            (None, 4)                    36        ['dense_12[1][0]']            \n",
            "                                                                                                  \n",
            " dense_14 (Dense)            (None, 2)                    10        ['dense_13[1][0]']            \n",
            "                                                                                                  \n",
            " dense_15 (Dense)            (None, 1)                    3         ['dense_14[1][0]']            \n",
            "                                                                                                  \n",
            "==================================================================================================\n",
            "Total params: 56553 (220.91 KB)\n",
            "Trainable params: 56553 (220.91 KB)\n",
            "Non-trainable params: 0 (0.00 Byte)\n",
            "__________________________________________________________________________________________________\n"
          ]
        }
      ]
    },
    {
      "cell_type": "code",
      "source": [
        "history = model.fit(\n",
        "    [X_board, X_active_color, X_castling_rights, X_en_passant, X_half_turn],\n",
        "    y,\n",
        "    epochs=10,\n",
        "    batch_size=32,\n",
        "    validation_split=0.2\n",
        ")"
      ],
      "metadata": {
        "id": "RWJF6OWOP5kU",
        "colab": {
          "base_uri": "https://localhost:8080/"
        },
        "outputId": "101f0b29-c5aa-413e-f2b3-b4fd3e926e4c"
      },
      "execution_count": null,
      "outputs": [
        {
          "output_type": "stream",
          "name": "stdout",
          "text": [
            "Epoch 1/10\n",
            "2500/2500 [==============================] - 18s 7ms/step - loss: 626640.8125 - mae: 303.4874 - val_loss: 570524.1875 - val_mae: 305.4933\n",
            "Epoch 2/10\n",
            "2500/2500 [==============================] - 11s 4ms/step - loss: 561102.6250 - mae: 303.1610 - val_loss: 545380.1875 - val_mae: 304.6456\n",
            "Epoch 3/10\n",
            "2500/2500 [==============================] - 15s 6ms/step - loss: 524944.2500 - mae: 301.0512 - val_loss: 538254.8750 - val_mae: 302.3903\n",
            "Epoch 4/10\n",
            "2500/2500 [==============================] - 12s 5ms/step - loss: 497782.8438 - mae: 297.6638 - val_loss: 535035.2500 - val_mae: 304.7158\n",
            "Epoch 5/10\n",
            "2500/2500 [==============================] - 13s 5ms/step - loss: 471185.4062 - mae: 292.1586 - val_loss: 541685.8750 - val_mae: 303.5555\n",
            "Epoch 6/10\n",
            "2500/2500 [==============================] - 15s 6ms/step - loss: 442184.0312 - mae: 285.1635 - val_loss: 550202.7500 - val_mae: 309.3410\n",
            "Epoch 7/10\n",
            "2500/2500 [==============================] - 19s 7ms/step - loss: 406754.3125 - mae: 278.0598 - val_loss: 547630.3125 - val_mae: 301.9703\n",
            "Epoch 8/10\n",
            "2500/2500 [==============================] - 12s 5ms/step - loss: 372113.0000 - mae: 268.9166 - val_loss: 561090.2500 - val_mae: 305.3760\n",
            "Epoch 9/10\n",
            "2500/2500 [==============================] - 14s 6ms/step - loss: 332695.5312 - mae: 260.4922 - val_loss: 564626.0000 - val_mae: 302.3921\n",
            "Epoch 10/10\n",
            "2500/2500 [==============================] - 14s 6ms/step - loss: 296134.5938 - mae: 251.6429 - val_loss: 564508.8125 - val_mae: 311.6510\n"
          ]
        }
      ]
    },
    {
      "cell_type": "code",
      "source": [
        "model.evaluate(\n",
        "    [X_board_test, X_active_color_test, X_castling_rights_test, X_en_passant_test, X_half_turn_test],\n",
        "    y_test\n",
        ")"
      ],
      "metadata": {
        "colab": {
          "base_uri": "https://localhost:8080/"
        },
        "id": "Fc2t2FnRR0jZ",
        "outputId": "4e32013e-87a7-4141-87a8-e0a107e734f2"
      },
      "execution_count": null,
      "outputs": [
        {
          "output_type": "stream",
          "name": "stdout",
          "text": [
            "4/4 [==============================] - 0s 7ms/step - loss: 340429.0938 - mae: 243.1066\n"
          ]
        },
        {
          "output_type": "execute_result",
          "data": {
            "text/plain": [
              "[340429.09375, 243.10662841796875]"
            ]
          },
          "metadata": {},
          "execution_count": 10
        }
      ]
    },
    {
      "cell_type": "code",
      "source": [
        "plt.figure(figsize=(12, 6))\n",
        "plt.plot(history.history['loss'], label='Training Loss')\n",
        "plt.plot(history.history['val_loss'], label='Validation Loss')\n",
        "plt.title('Model Loss')\n",
        "plt.xlabel('Epoch')\n",
        "plt.ylabel('Loss')\n",
        "plt.legend(loc='upper right')\n",
        "plt.show()"
      ],
      "metadata": {
        "colab": {
          "base_uri": "https://localhost:8080/",
          "height": 440
        },
        "id": "6uIYh-z2VBIn",
        "outputId": "91ee5346-f3cb-4e92-9803-ac85fbc43491"
      },
      "execution_count": null,
      "outputs": [
        {
          "output_type": "display_data",
          "data": {
            "text/plain": [
              "<Figure size 1200x600 with 1 Axes>"
            ],
            "image/png": "[encoded data removed]"
          },
          "metadata": {}
        }
      ]
    },
    {
      "cell_type": "code",
      "source": [
        "# import tensorflow as tf\n",
        "# from tensorflow.keras import datasets, layers, models\n",
        "# import matplotlib.pyplot as plt\n",
        "# (train_images, train_labels), (test_images, test_labels) = datasets.cifar10.load_data()\n",
        "# train_images, test_images = train_images / 255.0, test_images / 255.0\n",
        "# print(len(train_images))\n",
        "# print(len(train_images[0]))\n",
        "# print(len(train_images[0][0]))\n",
        "# print(len(train_images[0][0][0]))\n",
        "# print(train_images[0])\n",
        "# model = models.Sequential([\n",
        "#     # Convolutional and pooling layers\n",
        "#     layers.Conv2D(32, (3, 3), activation='relu', input_shape=(32, 32, 3)),\n",
        "#     layers.MaxPooling2D((2, 2)),\n",
        "#     layers.Conv2D(64, (3, 3), activation='relu'),\n",
        "#     layers.MaxPooling2D((2, 2)),\n",
        "#     layers.Conv2D(64, (3, 3), activation='relu'),\n",
        "\n",
        "#     # Fully connected layers\n",
        "#     layers.Flatten(),\n",
        "#     layers.Dense(64, activation='relu'),\n",
        "#     layers.Dense(10)  # Output layer with 10 classes\n",
        "# ])\n",
        "\n",
        "# model.compile(optimizer='adam',\n",
        "#               loss=tf.keras.losses.SparseCategoricalCrossentropy(from_logits=True),\n",
        "#               metrics=['accuracy'])\n",
        "# history = model.fit(train_images, train_labels, epochs=10,\n",
        "#                     validation_data=(test_images, test_labels))\n",
        "# test_loss, test_acc = model.evaluate(test_images,  test_labels, verbose=2)\n",
        "# print(\"\\nTest accuracy:\", test_acc)\n",
        "# plt.figure(figsize=(10, 4))\n",
        "# plt.subplot(1, 2, 1)\n",
        "# plt.plot(history.history['accuracy'], label='Training Accuracy')\n",
        "# plt.plot(history.history['val_accuracy'], label='Validation Accuracy')\n",
        "# plt.xlabel('Epoch')\n",
        "# plt.ylabel('Accuracy')\n",
        "# plt.legend()\n",
        "# plt.title('Training and Validation Accuracy')\n",
        "\n",
        "# plt.subplot(1, 2, 2)\n",
        "# plt.plot(history.history['loss'], label='Training Loss')\n",
        "# plt.plot(history.history['val_loss'], label='Validation Loss')\n",
        "# plt.xlabel('Epoch')\n",
        "# plt.ylabel('Loss')\n",
        "# plt.legend()\n",
        "# plt.title('Training and Validation Loss')\n",
        "\n",
        "# plt.show()"
      ],
      "metadata": {
        "colab": {
          "base_uri": "https://localhost:8080/"
        },
        "id": "HEb8JnN1j6JE",
        "outputId": "1199b40d-f610-43b8-e110-f226bae35ceb",
        "collapsed": true
      },
      "execution_count": null,
      "outputs": [
        {
          "output_type": "stream",
          "name": "stdout",
          "text": [
            "50000\n",
            "32\n",
            "32\n",
            "3\n",
            "[[[1.99026097e-25 2.09146068e-25 2.12519392e-25]\n",
            "  [1.45052918e-25 1.55172889e-25 1.51799566e-25]\n",
            "  [1.68666184e-25 1.61919537e-25 1.45052918e-25]\n",
            "  ...\n",
            "  [5.32985142e-25 4.45278726e-25 3.64318958e-25]\n",
            "  [5.12745200e-25 4.21665460e-25 3.44079016e-25]\n",
            "  [4.99251905e-25 4.18292137e-25 3.47452339e-25]]\n",
            "\n",
            " [[5.39731789e-26 6.74664736e-26 6.74664736e-26]\n",
            "  [0.00000000e+00 0.00000000e+00 0.00000000e+00]\n",
            "  [6.07198263e-26 2.69865895e-26 0.00000000e+00]\n",
            "  ...\n",
            "  [4.14918813e-25 2.96852484e-25 1.85532803e-25]\n",
            "  [4.01425518e-25 2.79985866e-25 1.68666184e-25]\n",
            "  [4.11545489e-25 2.93479160e-25 1.92279450e-25]]\n",
            "\n",
            " [[8.43330920e-26 8.09597684e-26 7.08397973e-26]\n",
            "  [5.39731789e-26 2.36132658e-26 0.00000000e+00]\n",
            "  [1.65292860e-25 9.10797394e-26 2.69865895e-26]\n",
            "  ...\n",
            "  [3.98052194e-25 2.83359189e-25 1.68666184e-25]\n",
            "  [4.04798842e-25 2.83359189e-25 1.68666184e-25]\n",
            "  [3.67692281e-25 2.46252629e-25 1.41679595e-25]]\n",
            "\n",
            " ...\n",
            "\n",
            " [[7.01651326e-25 5.73465026e-25 3.23839073e-25]\n",
            "  [6.78038060e-25 5.16118523e-25 1.14693005e-25]\n",
            "  [6.67918089e-25 5.43105113e-25 8.77064157e-26]\n",
            "  ...\n",
            "  [5.39731789e-25 4.48652050e-25 2.36132658e-25]\n",
            "  [1.88906126e-25 1.04573034e-25 2.36132658e-26]\n",
            "  [1.78786155e-25 1.14693005e-25 6.74664736e-26]]\n",
            "\n",
            " [[6.07198263e-25 4.68891992e-25 3.23839073e-25]\n",
            "  [5.83584997e-25 4.14918813e-25 1.41679595e-25]\n",
            "  [6.27438205e-25 4.85758610e-25 1.01199710e-25]\n",
            "  ...\n",
            "  [6.20691557e-25 4.99251905e-25 3.17092426e-25]\n",
            "  [3.27212397e-25 2.09146068e-25 1.14693005e-25]\n",
            "  [2.79985866e-25 1.78786155e-25 1.14693005e-25]]\n",
            "\n",
            " [[5.97078292e-25 4.85758610e-25 3.91305547e-25]\n",
            "  [5.66718379e-25 4.35158755e-25 3.17092426e-25]\n",
            "  [6.03824939e-25 4.79011963e-25 2.93479160e-25]\n",
            "  ...\n",
            "  [7.28637915e-25 6.20691557e-25 4.72265315e-25]\n",
            "  [5.09371876e-25 3.98052194e-25 2.83359189e-25]\n",
            "  [4.14918813e-25 3.10345779e-25 2.42879305e-25]]]\n"
          ]
        }
      ]
    }
  ]
}